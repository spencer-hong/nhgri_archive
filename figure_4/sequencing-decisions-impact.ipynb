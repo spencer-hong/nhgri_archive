{
 "cells": [
  {
   "cell_type": "code",
   "execution_count": 11,
   "id": "15d6262c-bd02-4b96-a8f0-a2bfb001fb12",
   "metadata": {},
   "outputs": [],
   "source": [
    "import sys\n",
    "sys.path.append('../gustav/src/')\n",
    "\n",
    "from gustav import ncbi, nlm, nih\n",
    "import json\n",
    "import numpy as np\n",
    "import pandas as pd\n",
    "from tqdm import tqdm\n",
    "\n",
    "import matplotlib\n",
    "import seaborn as sns\n",
    "import matplotlib.pyplot as plt\n",
    "import matplotlib.patches as mpatches\n",
    "\n",
    "sns.set_style('white', rc={\n",
    "    'xtick.bottom': True,\n",
    "    'ytick.left': True,\n",
    "})\n",
    "\n",
    "\n",
    "\n",
    "matplotlib.rcParams.update({\"axes.labelsize\": 7,\n",
    "\"xtick.labelsize\": 7,\n",
    "\"ytick.labelsize\": 7,\n",
    "\"legend.fontsize\": 7,\n",
    "\"font.size\":7})\n",
    "matplotlib.rc('font', family='Helvetica') \n",
    "matplotlib.rc('pdf', fonttype=42)\n",
    "matplotlib.rc('text', usetex='false') \n",
    "matplotlib.rcParams['axes.unicode_minus'] = False\n",
    "\n",
    "matplotlib.rcParams['xtick.major.size'] = 2\n",
    "matplotlib.rcParams['xtick.major.width'] = 0.5\n",
    "matplotlib.rcParams['xtick.minor.size'] = 2\n",
    "matplotlib.rcParams['xtick.minor.width'] = 0.5\n",
    "\n",
    "matplotlib.rcParams['ytick.major.size'] = 2\n",
    "matplotlib.rcParams['ytick.major.width'] = 0.5\n",
    "matplotlib.rcParams['ytick.minor.size'] = 2\n",
    "matplotlib.rcParams['ytick.minor.width'] = 0.5\n"
   ]
  },
  {
   "cell_type": "code",
   "execution_count": 12,
   "id": "9bb24c34-dbd1-455d-a33e-c42343c64e2d",
   "metadata": {},
   "outputs": [],
   "source": [
    "decisions = pd.read_csv(\"../models/model_organisms/base.csv\").sort_values(['taxon_ncbi', 'Round'])\n",
    "approved = decisions.loc[decisions['Approved Status'] == 'approved'].drop_duplicates(subset = ['taxon_ncbi'])\n",
    "approved = approved.sort_values([\"taxon_ncbi\", \"Round\"]).groupby(\"taxon_ncbi\").head(1)\n",
    "\n",
    "\n",
    "notapproved = decisions.loc[~decisions.taxon_ncbi.isin(approved.taxon_ncbi)].sort_values(['taxon_ncbi', 'Round']).drop_duplicates(subset = ['taxon_ncbi'])\n",
    "notapproved['Round'] = decisions.sort_values(\"Round\").iloc[-1].Round\n",
    "decisions = pd.concat([approved, notapproved])"
   ]
  },
  {
   "cell_type": "code",
   "execution_count": null,
   "id": "a0839eb0-8665-4b46-b0ec-f0b69a4b9bcc",
   "metadata": {},
   "outputs": [],
   "source": [
    "decisions.taxon_ncbi.unique().shape"
   ]
  },
  {
   "cell_type": "code",
   "execution_count": null,
   "id": "4de11187-a484-4b03-bfe8-8ffaa9070726",
   "metadata": {},
   "outputs": [],
   "source": [
    "names_to_track = []\n",
    "for organism in tqdm(decisions['taxon_ncbi'].unique(), total = len(decisions['taxon_ncbi'].unique())):\n",
    "    organism = str(organism)\n",
    "    names_to_track.append(int(organism))"
   ]
  },
  {
   "cell_type": "code",
   "execution_count": 15,
   "id": "b05a4def-2556-4a9e-911c-f4337c825fe4",
   "metadata": {},
   "outputs": [],
   "source": [
    "taxon_names = ncbi.taxonomy('names')\n",
    "taxon_names['taxon_name'] = taxon_names['taxon_name'].str.lower()\n",
    "taxon_names = taxon_names.loc[((taxon_names.name_class.str.contains('name')) | (taxon_names.name_class == 'synonym'))]"
   ]
  },
  {
   "cell_type": "code",
   "execution_count": 16,
   "id": "cfade691-4a75-4d8c-b3d1-f43d33f6343e",
   "metadata": {},
   "outputs": [],
   "source": [
    "\n",
    "\n",
    "names_to_track = dict([(taxa, taxon_names.loc[(taxon_names.taxon_ncbi == taxa)]['taxon_name'].to_list()) for taxa in names_to_track])"
   ]
  },
  {
   "cell_type": "code",
   "execution_count": 17,
   "id": "c8a6d0ad-6201-43bb-ac7a-fc2a5db5cd6c",
   "metadata": {},
   "outputs": [],
   "source": [
    "term_expanded = {\n",
    "\"genome\": [\n",
    "    'chip seq', 'chip sequencing', 'chip-chip', 'chip-seq', 'chip-sequencing',\n",
    "    'chromatin immunoprecipitation followed by sequencing', 'clinicogenomic',\n",
    "    'clinicogenomics', 'clip seq', 'clip seq', 'clip sequencing', 'clip sequencing',\n",
    "    'clip-seq', 'clip-seq', 'clip-sequencing', 'clip-sequencing', 'epigenome',\n",
    "    'epigenomes', 'epigenomic', 'epigenomics', 'eqtl', 'eqtls', 'exome',\n",
    "    'expression quantitative trait loci', 'ewas', 'genome', 'genome-scale',\n",
    "    'genome-wide', 'genomes', 'genomic', 'genomics', 'glycome', 'glycomes',\n",
    "    'glycomics', 'glycoproteome', 'glycoproteomes', 'glycoproteomic',\n",
    "    'glycoproteomics', 'gwas', 'high-throughput nucleotide sequencing', 'hits seq',\n",
    "    'hits sequencing', 'hits-seq', 'hits-sequencing', 'in situ proximity ligation',\n",
    "    'in-situ proximity ligation', 'interactome', 'interactomes', 'interactomic',\n",
    "    'interactomics', 'metabolome', 'metabolomes', 'metabolomic', 'metabolomics',\n",
    "    'metagenome', 'metagenomes', 'metagenomics', 'microarray', 'microarrays',\n",
    "    'multi-ome', 'multi-omes', 'multi-omic', 'multi-omics', 'multiome', 'multiomes',\n",
    "    'multiomic', 'multiomics', 'next generation sequencing', 'next generation-sequencing',\n",
    "    'next-generation sequencing', 'next-generation-sequencing', 'ngs', 'nutrigenome',\n",
    "    'nutrigenomes', 'nutrigenomic', 'nutrigenomics', 'oligonucleotide array sequence analysis',\n",
    "    'omics', 'onco-genome', 'onco-genomes', 'onco-genomics', 'onco-genomics',\n",
    "    'onco-proteogenome', 'onco-proteogenomes', 'onco-proteogenomic', 'onco-proteogenomics',\n",
    "    'oncogenome', 'oncogenomes', 'oncogenomics', 'oncogenomics', 'oncoproteogenome',\n",
    "    'oncoproteogenomes', 'oncoproteogenomic', 'oncoproteogenomics', 'par-clip',\n",
    "    'pharmacogenome', 'pharmacogenomes', 'pharmacogenomic', 'pharmacogenomics',\n",
    "    'phenome', 'phenomes', 'phenomic', 'phenomics', 'phosphoproteome', 'phosphoproteomes',\n",
    "    'phosphoproteomic', 'phosphorpoteomics', 'protein array', 'protein array analysis',\n",
    "    'protein interaction map', 'protein interaction mapping', 'protein interaction maps',\n",
    "    'protein interaction network', 'protein interaction networks', 'protein–protein interaction map',\n",
    "    'protein–protein interaction mapping', 'protein–protein interaction maps',\n",
    "    'protein–protein interaction network', 'protein–protein interaction networks', 'proteogenome',\n",
    "    'proteogenomes', 'proteogenomic', 'proteogenomics', 'proteome', 'proteomes', 'proteomic',\n",
    "    'proteomics', 'radiogenome', 'radiogenomes', 'radiogenomic', 'radiogenomics', 'rna seq',\n",
    "    'rna sequencing', 'rna-seq', 'rna-sequencing', 'rnaseq', 'toxicogenome', 'toxicogenomes',\n",
    "    'toxicogenomic', 'toxicogenomics', 'transcriptome', 'transcriptomes', 'transcriptomic',\n",
    "    'transcriptomics', 'wes', 'wgs', 'whole-exome', 'whole-genome']}"
   ]
  },
  {
   "cell_type": "code",
   "execution_count": 18,
   "id": "062d271b-3789-43b0-bb6f-70ff0276d317",
   "metadata": {},
   "outputs": [],
   "source": [
    "pubmed = ncbi.pubmed('main',\n",
    "                    columns = ['pubmed_id','pubdate'],\n",
    "                    filters = {\"pubdate\": np.arange(1990, 2021)})"
   ]
  },
  {
   "cell_type": "markdown",
   "id": "45e628ea",
   "metadata": {},
   "source": [
    "### we load the matrix of PubMed that checked for organisms (see README; this is done separately due to computational resources)"
   ]
  },
  {
   "cell_type": "code",
   "execution_count": 19,
   "id": "efdf99e3-e8a3-4abf-a5ff-7185f6c88a34",
   "metadata": {},
   "outputs": [],
   "source": [
    "nhgri = np.load(\"../cache/all_combined_nhgri_organisms.npy\")\n",
    "nhgri_df = pd.DataFrame(nhgri, columns = names_to_track.keys())\n",
    "del nhgri\n"
   ]
  },
  {
   "cell_type": "code",
   "execution_count": 28,
   "id": "85e212e3-54a3-4922-a1ff-806640df0fb8",
   "metadata": {},
   "outputs": [],
   "source": [
    "genomics = np.load('../cache/all_combined_genome.npy')\n",
    "genomics_df = pd.DataFrame(genomics, columns = [\"genomics\"])\n",
    "del genomics"
   ]
  },
  {
   "cell_type": "code",
   "execution_count": 20,
   "id": "8ed5ccfd-3443-4b31-b2ba-6b85d2c5b1cc",
   "metadata": {},
   "outputs": [],
   "source": [
    "combined = nhgri_df\n",
    "del nhgri_df"
   ]
  },
  {
   "cell_type": "code",
   "execution_count": 21,
   "id": "d1b37a5e-0235-494f-ba03-cf82dc83939d",
   "metadata": {},
   "outputs": [],
   "source": [
    "combined['pubdate'] = pubmed['pubdate'].reset_index(drop = True)"
   ]
  },
  {
   "cell_type": "code",
   "execution_count": 24,
   "id": "4097bf3f-dbc4-4c90-ba05-2688781fcf28",
   "metadata": {},
   "outputs": [],
   "source": [
    "def year_count(df, organism):\n",
    "    \n",
    "    return df.groupby(df.pubdate).agg({organism:np.sum})\n",
    "\n",
    "def get_papers_that_have_term_and_organism(terms_df, organisms_df, term, organism):\n",
    "    numerator = np.bitwise_and(terms_df[term], organisms_df[organism])\n",
    "    \n",
    "    return numerator\n",
    "\n",
    "def get_genome_share(organism, years, group = False, rolling = False):\n",
    "    \n",
    "    total_mesh_per_year = year_count(combined, organism).reset_index()\n",
    "    \n",
    "    total_mesh_per_year = total_mesh_per_year.loc[total_mesh_per_year.pubdate.isin(years)]\n",
    "    \n",
    "    temp_term = get_papers_that_have_term_and_organism(genomics_df, \\\n",
    "                            combined, \"genomics\", organism).to_frame()\n",
    "    temp_term.columns = [organism]\n",
    "    temp_term['pubdate'] = pubmed['pubdate'].reset_index(drop= True)\n",
    "    \n",
    "    percentage = year_count(temp_term, organism).reset_index()\n",
    "    percentage = percentage.loc[percentage.pubdate.isin(years)]\n",
    "    \n",
    "    if rolling:\n",
    "        total_mesh_per_year[organism] = total_mesh_per_year[organism].rolling(3).sum()\n",
    "        percentage[organism] = percentage[organism].rolling(3).sum()\n",
    "        \n",
    "        total_mesh_per_year = total_mesh_per_year.iloc[2:]\n",
    "        percentage = percentage.iloc[2:]\n",
    "    if group:\n",
    "        total_mesh_per_year = total_mesh_per_year.loc[total_mesh_per_year.pubdate != years[0] + 10].groupby(np.arange(len(total_mesh_per_year.loc[total_mesh_per_year.pubdate != years[0] + 10].index))//5, axis=0).sum().reset_index(drop = True)\n",
    "        percentage = percentage.loc[percentage.pubdate != years[0] + 10].groupby(np.arange(len(percentage.loc[percentage.pubdate != years[0] + 10].index))//5, axis=0).sum().reset_index(drop = True)\n",
    "        \n",
    "\n",
    "    percentage[organism] = percentage[organism] / total_mesh_per_year[organism]\n",
    "    percentage[organism] = percentage[organism].fillna(0)    \n",
    "    return percentage\n",
    "\n",
    "def type_of_organism(x):\n",
    "    if x in decisions.loc[decisions['Approved Status'] == 'not approved']['taxon_ncbi'].to_list():\n",
    "        return \"not approved\"\n",
    "    elif x in decisions.loc[decisions['Approved Status'] == \"approved\"]['taxon_ncbi'].to_list():\n",
    "        return \"approved\"\n",
    "    elif x in genomes_25for25:\n",
    "        return \"sanger\"\n",
    "    elif x in genomes_nature_unsequenced:\n",
    "        return \"nature\"\n",
    "    else:\n",
    "        return None"
   ]
  },
  {
   "cell_type": "code",
   "execution_count": null,
   "id": "f1620d44-2b07-4b05-93bd-98f76a1df389",
   "metadata": {},
   "outputs": [],
   "source": [
    "to_plot = []\n",
    "for i in tqdm(combined.columns, total = len(combined.columns)):\n",
    "\n",
    "\tif i != 'pubdate':\n",
    "\t\t# try:\n",
    "\t\ttotal_mesh_per_year = year_count(combined, i).reset_index()\n",
    "\n",
    "\t\tif type_of_organism(i) == \"not approved\" or type_of_organism(i) == \"approved\":\n",
    "\t\t\tround_year = pd.to_datetime(decisions.loc[decisions.taxon_ncbi == i].iloc[0]['Round']).year\n",
    "\t\t\ttotal_mesh_per_year = total_mesh_per_year.loc[total_mesh_per_year['pubdate'].isin(range(round_year - 10, round_year + 11))]\n",
    "\n",
    "\t\t\tgenome_share = get_genome_share(i, range(round_year - 10, round_year + 11), group = True)\n",
    "\t\telse:\n",
    "\t\t\t\t\n",
    "\t\t\ttotal_mesh_per_year = total_mesh_per_year.loc[total_mesh_per_year['pubdate'].isin(np.arange(1996, 2017))]\n",
    "\t\n",
    "\t\t\tgenome_share = get_genome_share(i, np.arange(1996, 2017), group = True)\n",
    "\t\tgenome_share = genome_share.reset_index(drop = True)\n",
    "\t\tdel genome_share['pubdate']\n",
    "\n",
    "\t\tto_plot.append(genome_share)\n",
    "\t\t\n",
    "\t\t# except KeyError:\n",
    "\t\t# \tprint(i)"
   ]
  },
  {
   "cell_type": "code",
   "execution_count": null,
   "id": "39648802-e423-4a8c-8534-1008180910e3",
   "metadata": {},
   "outputs": [],
   "source": [
    "to_plot = pd.concat(to_plot, axis = 1)\n",
    "# to_plot_25for25['pubdate'] = range(-8, 11)\n",
    "to_plot['pubdate'] = ['-10 to -5', '-5 to -1', '1 to 5', '6 to 10']\n",
    "to_plot['relative'] = '1995to2015'\n",
    "to_plot = to_plot.melt(id_vars = [\"pubdate\", \"relative\"])\n",
    "to_plot['taxon_ncbi'] = to_plot['variable']\n",
    "del to_plot['variable']"
   ]
  },
  {
   "cell_type": "code",
   "execution_count": 47,
   "id": "11fd2e33-e86b-4337-bc59-1a80ecd68471",
   "metadata": {},
   "outputs": [],
   "source": [
    "from scipy.stats import mannwhitneyu, wilcoxon\n",
    "from statsmodels.stats.multitest import multipletests\n",
    "from scipy.stats import fisher_exact"
   ]
  },
  {
   "cell_type": "code",
   "execution_count": 34,
   "id": "35f2e475-35db-41ee-a5f1-e60791beec75",
   "metadata": {},
   "outputs": [],
   "source": [
    "to_plot['type'] = to_plot['taxon_ncbi'].apply(type_of_organism)"
   ]
  },
  {
   "cell_type": "code",
   "execution_count": null,
   "id": "e8db990b-2e23-4063-bcbf-e0a9360bd672",
   "metadata": {},
   "outputs": [],
   "source": [
    "fig, ax = plt.subplots(1, 1, figsize = (3, 2), dpi = 300 )\n",
    "flierprops = dict(markerfacecolor='k', markersize=1,\n",
    "              marker = 'o')\n",
    "# sns.boxplot(to_plot.loc[~((to_plot['type'] == 'sanger') & (to_plot['pubdate'] != '6 to 10')) & (to_plot['type'] != \"nature\")].sort_values(by = ['pubdate', 'type']), x = 'pubdate', y = 'value',\\\n",
    "#             ax = ax, notch = True, hue = 'type', flierprops = flierprops \\\n",
    "#             , boxprops = {\"edgecolor\": \"black\", 'linewidth': 0.5}, \\\n",
    "#             medianprops = {'color':'black', 'linewidth':0.5}, whiskerprops={'color':'black', 'linewidth': 0.5}, capprops={'color':'black', 'linewidth': 0.5},\n",
    "#            palette = [\"#9CADCE\", \"#F37668\", \"#8CBA80\"])\n",
    "sns.boxplot(to_plot.loc[~((to_plot['type'] == 'sanger') ) & (to_plot['type'] != \"nature\")].sort_values(by = ['pubdate', 'type']), x = 'pubdate', y = 'value',\\\n",
    "            ax = ax, notch = False, hue = 'type', flierprops = flierprops \\\n",
    "            , boxprops = {\"edgecolor\": \"black\", 'linewidth': 0.5}, \\\n",
    "            medianprops = {'color':'black', 'linewidth':0.5}, whiskerprops={'color':'black', 'linewidth': 0.5}, capprops={'color':'black', 'linewidth': 0.5},\n",
    "           palette = [\"#9CADCE\", \"#F37668\", \"#8CBA80\"])\n",
    "# sns.stripplot(to_plot.loc[to_plot['type'] != \"nature\"].sort_values(by = ['pubdate', 'type']), x = 'pubdate', y = 'value', hue = 'type',\\\n",
    "#             ax = ax, jitter=0.4, marker='o', size =2.5, alpha=0.4, edgecolor='black', linewidth=0.5, dodge=True, )\n",
    "\n",
    "ax.set_ylabel('Share of Genomics')\n",
    "ax.set_xlabel('Relative Year')\n",
    "# ax.set_xticks(np.arange(-10, 11, 2))\n",
    "# ax.set_title(f\"N={len(to_plot['value'].unique())}\", fontsize = 20)\n",
    "ax.get_legend().remove()\n",
    "ax.tick_params(axis = \"both\", colors = \"k\")\n",
    "ax.spines['right'].set_visible(False)\n",
    "ax.spines['top'].set_visible(False)\n",
    "ax.spines['bottom'].set_linewidth(0.5)\n",
    "ax.spines['left'].set_linewidth(0.5)\n",
    "# ax.legend(title='Status', loc='upper right', bbox_to_anchor=(1.2, 0.6))\n",
    "plt.show()"
   ]
  },
  {
   "cell_type": "code",
   "execution_count": null,
   "id": "62470afb-fbb1-454c-9818-c7bca1790a3b",
   "metadata": {},
   "outputs": [],
   "source": []
  },
  {
   "cell_type": "code",
   "execution_count": null,
   "id": "f3e8a1d3-a75a-45c5-9379-8cdcfd8011a0",
   "metadata": {},
   "outputs": [],
   "source": [
    "mannwhitneyu(forstats.loc[(forstats['type'] == \"approved\") & (forstats['pubdate'] == '1 to 5')]['value'].iloc[0],\n",
    "             forstats.loc[(forstats['type'] == \"not approved\") & (forstats['pubdate'] == '1 to 5')]['value'].iloc[0])"
   ]
  },
  {
   "cell_type": "code",
   "execution_count": null,
   "id": "6b388673-998a-4bb1-9185-56c56b08d253",
   "metadata": {},
   "outputs": [],
   "source": [
    "mannwhitneyu(forstats.loc[(forstats['type'] == \"approved\") & (forstats['pubdate'] == '6 to 10')]['value'].iloc[0],\n",
    "             forstats.loc[(forstats['type'] == \"not approved\") & (forstats['pubdate'] == '6 to 10')]['value'].iloc[0])"
   ]
  },
  {
   "cell_type": "code",
   "execution_count": null,
   "id": "dde971e5-886a-41bf-9d8e-035f7340dd78",
   "metadata": {},
   "outputs": [],
   "source": [
    "mannwhitneyu(forstats.loc[(forstats['type'] == \"approved\") & (forstats['pubdate'] == '-5 to -1')]['value'].iloc[0],\n",
    "             forstats.loc[(forstats['type'] == \"not approved\") & (forstats['pubdate'] == '-5 to -1')]['value'].iloc[0])"
   ]
  },
  {
   "cell_type": "code",
   "execution_count": null,
   "id": "1d661977-a26a-4dbf-b221-529012c215f0",
   "metadata": {},
   "outputs": [],
   "source": [
    "mannwhitneyu(forstats.loc[(forstats['type'] == \"approved\") & (forstats['pubdate'] == '6 to 10')]['value'].iloc[0],\n",
    "             forstats.loc[(forstats['type'] == \"not approved\") & (forstats['pubdate'] == '6 to 10')]['value'].iloc[0])"
   ]
  },
  {
   "cell_type": "code",
   "execution_count": null,
   "id": "f90e6b41-626a-423d-ac09-0587d6e7b904",
   "metadata": {},
   "outputs": [],
   "source": [
    "mannwhitneyu(forstats.loc[(forstats['type'] == \"approved\") & (forstats['pubdate'] == '6 to 10')]['value'].iloc[0],\n",
    "             forstats.loc[(forstats['type'] == \"sanger\") & (forstats['pubdate'] == '6 to 10')]['value'].iloc[0])"
   ]
  },
  {
   "cell_type": "code",
   "execution_count": null,
   "id": "b638aef1-b3e4-4b34-bdf8-e47d5aa6bae9",
   "metadata": {},
   "outputs": [],
   "source": []
  },
  {
   "cell_type": "code",
   "execution_count": 36,
   "id": "009f73fa-d37e-4718-93c1-cb823b76e6ed",
   "metadata": {},
   "outputs": [],
   "source": [
    "taxon_nodes = ncbi.taxonomy('nodes')\n",
    "taxon_names = ncbi.taxonomy('names')\n",
    "taxon_names['lower_taxon_name'] = taxon_names['taxon_name'].str.lower()"
   ]
  },
  {
   "cell_type": "code",
   "execution_count": null,
   "id": "1abf1a76-7d05-4c7e-ae28-5e3d24e17d9a",
   "metadata": {},
   "outputs": [],
   "source": [
    "phyla = [\"Bryozoa\", \"Phoronida\", \"Brachiopoda\", \"Annelida\",\"Orthonectida\",\\\n",
    "         \"Dicyemida\",\"Mollusca\", \"Rhombozoa\", \"Platyhelminthes\", \"Acanthocephala\",\\\n",
    "         \"Rotifera\", \"Arthropoda\", \"Onychophora\", \"Nematoda\", \\\n",
    "         \"Tardigrada\", \"Priapulida\", \"Echinodermata\", \"Hemichordata\", \\\n",
    "         \"Chordata\", \"Xenacoelomorpha\", \"Cnidaria\", \"Placozoa\", \\\n",
    "         \"Porifera\", \"Ctenophora\", \"Chaetognatha\", \"Cycliophora\", \"Entoprocta\", \\\n",
    "        \"Gastrotricha\", \"Gnathostomulida\", \"Kinorhyncha\", \"Loricifera\", \"Micrognathozoa\",\\\n",
    "        \"Nematomorpha\", \"Sipuncula\"]\n",
    "\n",
    "phyla = [i.lower() for i in phyla]\n",
    " \n",
    "phyla_ncbi = [10205, 120557,7568, 6340, 33209,10215, 6447, 6217,  6157, 10232, 10190, 6656, 27563,\\\n",
    "             6231, 42241, 33467, 7586, 10219, 7711, 1312402, 6073, 10226, 6040, 10197, 10229, 69815, \\\n",
    "             43120, 33313, 66780,51516, 310840, 195505, 33310, 6433]\n",
    "# dicyemida is also known as Rhombozoa\n",
    "num_species = [10491, 10, 443, 17210, 43, None,  117358, 123, 29285, 1194, 1583, 1242040, 182, 24783, 1157, 19,\\\n",
    "               20509, 120, 81683, 395, 10105, 1, 8346, 242, 186, 2, 169, 790, 109, 179, 30, 1, 351, 1507 ]\n",
    "len(phyla) == len(phyla_ncbi) == len(num_species)"
   ]
  },
  {
   "cell_type": "code",
   "execution_count": 38,
   "id": "78e7bfd5-6823-41b4-b619-94e719c4b328",
   "metadata": {},
   "outputs": [],
   "source": [
    "def find_which_phyla_the_organism_belongs_under(taxon_ncbi, rank):\n",
    "    \n",
    "    parent = taxon_nodes.loc[taxon_nodes.taxon_ncbi == taxon_ncbi].iloc[0]\n",
    "    \n",
    "    if parent['rank'] != rank:\n",
    "#         print(parent.taxon_ncbi, parent['rank'])\n",
    "        parent = find_which_phyla_the_organism_belongs_under(parent.parent_taxon_ncbi, rank)\n",
    "    \n",
    "    return parent"
   ]
  },
  {
   "cell_type": "code",
   "execution_count": null,
   "id": "5f78b273-d4d3-45a1-be78-b3664d8f34c0",
   "metadata": {},
   "outputs": [],
   "source": [
    "\n",
    "which_phyla = []\n",
    "for taxon_ncbi in tqdm(decisions.taxon_ncbi):\n",
    "    # skip Thecamonas trahens \t\n",
    "    try:\n",
    "        parent = find_which_phyla_the_organism_belongs_under(taxon_ncbi, 'kingdom')\n",
    "    except RecursionError:\n",
    "        try:\n",
    "            parent = find_which_phyla_the_organism_belongs_under(taxon_ncbi, \"phylum\")\n",
    "            which_phyla.append((\"no kingdom\", taxon_ncbi, parent.taxon_ncbi,  taxon_names.loc[(taxon_names.taxon_ncbi == parent.taxon_ncbi)  & (taxon_names.name_class == 'scientific name')].iloc[0].lower_taxon_name))\n",
    "        except RecursionError:\n",
    "            which_phyla.append((\"unranked\", taxon_ncbi, \"unranked\", \"unranked\"))\n",
    "            continue\n",
    "    parent_rank = taxon_names.loc[(taxon_names.taxon_ncbi == parent.taxon_ncbi)].iloc[0].lower_taxon_name\n",
    "    if parent_rank == 'animalia':\n",
    "        parent = find_which_phyla_the_organism_belongs_under(taxon_ncbi, 'phylum')\n",
    "        which_phyla.append((\"animalia\", taxon_ncbi, parent.taxon_ncbi, taxon_names.loc[(taxon_names.taxon_ncbi == parent.taxon_ncbi)  & (taxon_names.name_class == 'scientific name')].iloc[0].lower_taxon_name))\n",
    "    else:\n",
    "        parent = find_which_phyla_the_organism_belongs_under(taxon_ncbi, \"phylum\")\n",
    "        which_phyla.append((parent_rank, taxon_ncbi, parent.taxon_ncbi,  taxon_names.loc[(taxon_names.taxon_ncbi == parent.taxon_ncbi)  & (taxon_names.name_class == 'scientific name')].iloc[0].lower_taxon_name))\n",
    "        \n",
    "    "
   ]
  },
  {
   "cell_type": "code",
   "execution_count": 40,
   "id": "101a5b6d-6034-4e3b-90f8-8c5a4ff5b227",
   "metadata": {},
   "outputs": [],
   "source": [
    "which_phyla_df = pd.DataFrame(which_phyla, columns = ['kingdom', 'taxon_ncbi', 'phylum_taxon', 'name'])"
   ]
  },
  {
   "cell_type": "code",
   "execution_count": 41,
   "id": "827ea626-4d75-43f2-81f3-35db7e4e38fb",
   "metadata": {},
   "outputs": [],
   "source": [
    "which_phyla_df['decision'] = which_phyla_df['taxon_ncbi'].map(decisions.set_index(\"taxon_ncbi\")['Approved Status'].to_dict())"
   ]
  },
  {
   "cell_type": "code",
   "execution_count": 42,
   "id": "035d831e-eb0e-4938-b730-3675bd6bd4de",
   "metadata": {},
   "outputs": [],
   "source": [
    "all_df = which_phyla_df\n",
    "all_df['taxon_ncbi'] = all_df['taxon_ncbi'].astype(int)\n",
    "\n",
    "# map_count = dict(zip(phyla_ncbi, num_species))\n",
    "# animalia['species_count'] = animalia['phylum_taxon'].map(map_count)\n",
    "\n",
    "all_df['kingdom'] = all_df['kingdom'].map({\"animalia\": \"animalia\", \"fungi\": \"fungi\", \"oomycetes\": \"oomycetes\"})\n",
    "all_df['kingdom'] = all_df['kingdom'].fillna(\"rest\")"
   ]
  },
  {
   "cell_type": "markdown",
   "id": "2a3bb1ff",
   "metadata": {},
   "source": [
    "### the number of species below are sourced from Z.-Q. Zhang, Animal Biodiversity: An Outline of Higher-Level Classification and Survey of Taxonomic Richness (Magnolia Press, 2011) and references within."
   ]
  },
  {
   "cell_type": "code",
   "execution_count": 43,
   "id": "a23d0ae3-aaef-4c09-bf74-c626af6e9659",
   "metadata": {},
   "outputs": [],
   "source": [
    "map_count = {'bryozoa': 10491,\n",
    " 'phoronida': 10,\n",
    " 'brachiopoda': 443,\n",
    " 'annelida': 17210,\n",
    " 'orthonectida': 43,\n",
    " 'dicyemida': None,\n",
    " 'mollusca': 117358,\n",
    " 'rhombozoa': 123,\n",
    " 'platyhelminthes': 29285,\n",
    " 'acanthocephala': 1194,\n",
    " 'rotifera': 1583,\n",
    " 'arthropoda': 1242040,\n",
    " 'onychophora': 182,\n",
    " 'nematoda': 24783,\n",
    " 'tardigrada': 1157,\n",
    " 'priapulida': 19,\n",
    " 'echinodermata': 20509,\n",
    " 'hemichordata': 120,\n",
    " 'chordata': 81683,\n",
    " 'xenacoelomorpha': 395,\n",
    " 'cnidaria': 10105,\n",
    " 'placozoa': 1,\n",
    " 'porifera': 8346,\n",
    " 'ctenophora': 242,\n",
    " 'chaetognatha': 186,\n",
    " 'cycliophora': 2,\n",
    " 'entoprocta': 169,\n",
    " 'gastrotricha': 790,\n",
    " 'gnathostomulida': 109,\n",
    " 'kinorhyncha': 179,\n",
    " 'loricifera': 30,\n",
    " 'micrognathozoa': 1,\n",
    " 'nematomorpha': 351,\n",
    " 'sipuncula': 1507}"
   ]
  },
  {
   "cell_type": "code",
   "execution_count": 45,
   "id": "d4a385e2-4454-4882-b26b-d1b9ece48a0c",
   "metadata": {},
   "outputs": [],
   "source": [
    "def rename(x):\n",
    "    if x['kingdom'] == \"animalia\":\n",
    "        return x['name']\n",
    "    elif x['kingdom'] == \"fungi\":\n",
    "        return x['name']\n",
    "    elif x['kingdom'] == \"oomycetes\":\n",
    "        return x['name']\n",
    "    else:\n",
    "        return \"other\"\n",
    "\n",
    "all_df['groups'] = all_df.apply(lambda x: rename(x), axis = 1)"
   ]
  },
  {
   "cell_type": "code",
   "execution_count": null,
   "id": "a5764127-4d67-4837-b063-75cabcebdcb4",
   "metadata": {},
   "outputs": [],
   "source": []
  },
  {
   "cell_type": "code",
   "execution_count": null,
   "id": "e94c2e04-39e1-4691-9d7c-363cadd926dc",
   "metadata": {},
   "outputs": [],
   "source": [
    "\n",
    "# all_df = all_df.loc[all_df.decision == \"approved\"]\n",
    "ratios = []\n",
    "for phyla in which_phyla_df['groups'].unique():\n",
    "    print(phyla)\n",
    "\n",
    "    \n",
    "    a1 = all_df.loc[(all_df['groups'] == phyla)].shape[0]\n",
    "    a3 = all_df.loc[(all_df['groups'] == phyla) & (all_df['decision'] == 'approved')].shape[0]\n",
    "    b1 = all_df.loc[(all_df['groups'] != phyla)].shape[0]\n",
    "\n",
    "    if phyla in map_count:\n",
    "        a2 = map_count[phyla]\n",
    "        b2 = sum([i for i in map_count.values() if i is not None]) - b1\n",
    "    \n",
    "        # b1 = all_df.loc[(all_df['groups'] != phyla) & (all_df['decision'] == 'approved')].shape[0]\n",
    "        # b2 = all_df.loc[(all_df['groups'] != phyla) & (all_df['decision'] == 'not approved')].shape[0]\n",
    "        print(a1, a2, b1, b2)\n",
    "     \n",
    "        ratio, p_value = fisher_exact([[a1, a2], [b1, b2]])\n",
    "        ratios.append((phyla, np.log2(ratio), p_value, a1, a3))\n",
    "        print(np.log(ratio), p_value)\n",
    "    else:\n",
    "        continue"
   ]
  },
  {
   "cell_type": "code",
   "execution_count": null,
   "id": "7ce3502c-5b08-4b43-a0a1-47efe8865d6a",
   "metadata": {},
   "outputs": [],
   "source": [
    "ratios_df = pd.DataFrame(ratios, columns = [\"phyla\", \"ratio\", \"pvalue\", \"total\", \"approved\"])\n",
    "ratios_df['phyla'] = ratios_df['phyla'].apply(lambda x: x.title())\n",
    "ratios_df = ratios_df.sort_values(\"phyla\", ascending = False)\n",
    "ratios_df['color'] = ratios_df['ratio'].apply(lambda x: \"#C83E4D\" if x< 0 else \"#3ABEFF\")\n",
    "\n",
    "fig, ax1 = plt.subplots(1, 1, figsize = (4, 3), dpi = 300 )\n",
    "\n",
    "ax1.barh(ratios_df['phyla'], ratios_df['total'], color = '#C83E4D', linewidth = 0) \n",
    "ax1.barh(ratios_df['phyla'], ratios_df['approved'], color = '#3ABEFF', linewidth = 0) \n",
    "# ax1.barh(ratios_df['phyla'], ratios_df['ratio'], color = ratios_df['color']) \n",
    "# ax1.barh(ratios_df.loc[ratios_df.ratio  > 0]['phyla'], ratios_df.loc[ratios_df.ratio  > 0]['ratio'], color = \"#3ABEFF\")\n",
    "# ax1.set_xlim(-50, 70)\n",
    "# ax1.set_xticklabels([60, 40, 20, 0, 20, 40, 60])\n",
    "ax1.axvline(0, c = 'k', linewidth = 0.5)\n",
    "ax1.set_xlabel('Total submissions' ,color = 'k')\n",
    "ax1.spines['right'].set_visible(False)\n",
    "ax1.spines['top'].set_visible(False)\n",
    "ax1.spines['bottom'].set_linewidth(0.5)\n",
    "ax1.spines['left'].set_linewidth(0.5)\n",
    "ax1.tick_params(axis = \"both\", colors = \"k\")\n",
    "plt.show()\n",
    "# plt.show()"
   ]
  },
  {
   "cell_type": "code",
   "execution_count": null,
   "id": "fe20f95b-abe6-4cab-9861-d04400cf55e0",
   "metadata": {},
   "outputs": [],
   "source": []
  }
 ],
 "metadata": {
  "kernelspec": {
   "display_name": "Python 3 (ipykernel)",
   "language": "python",
   "name": "python3"
  },
  "language_info": {
   "codemirror_mode": {
    "name": "ipython",
    "version": 3
   },
   "file_extension": ".py",
   "mimetype": "text/x-python",
   "name": "python",
   "nbconvert_exporter": "python",
   "pygments_lexer": "ipython3",
   "version": "3.10.11"
  }
 },
 "nbformat": 4,
 "nbformat_minor": 5
}
