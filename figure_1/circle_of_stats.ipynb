{
 "cells": [
  {
   "cell_type": "code",
   "execution_count": null,
   "id": "ec51dbca",
   "metadata": {},
   "outputs": [],
   "source": [
    "import sys\n",
    "sys.path.append('../src/')\n",
    "\n",
    "from utils_tiramisu import *\n",
    "\n",
    "from tqdm import tqdm\n",
    "\n",
    "from pathlib import Path\n",
    "\n",
    "# this is the same TIRAMISU_PATH as shown in start_here.ipynb\n",
    "TIRAMISU_PATH = \n",
    "\n",
    "import matplotlib\n",
    "import matplotlib.pyplot as plt\n",
    "import seaborn as sns\n",
    "\n",
    "import numpy as np"
   ]
  },
  {
   "cell_type": "markdown",
   "id": "7d5bf3e0-258a-419b-aec1-26ec086cf00d",
   "metadata": {},
   "source": [
    "### Find all the file types inside the corpus"
   ]
  },
  {
   "cell_type": "code",
   "execution_count": null,
   "id": "8793cddd",
   "metadata": {},
   "outputs": [],
   "source": [
    "file_extensions = return_from_neo4j(\"\"\"\n",
    "match (n:Folder) - [:CONTAINS] -> (c:File) return c.fileExtension as file_extension, count(c) as count\n",
    "\"\"\")\n",
    "\n",
    "file_extensions"
   ]
  },
  {
   "cell_type": "code",
   "execution_count": null,
   "id": "8d302214",
   "metadata": {},
   "outputs": [],
   "source": [
    "sum(fileExtensions['count(c)']) # total number of files"
   ]
  },
  {
   "cell_type": "markdown",
   "id": "557d4f23-1bee-43e4-994a-917b3e7fe7d1",
   "metadata": {},
   "source": [
    "### Number of PDF pages"
   ]
  },
  {
   "cell_type": "code",
   "execution_count": null,
   "id": "674efe7d",
   "metadata": {},
   "outputs": [],
   "source": [
    "pdf_pages = return_from_neo4j(\"\"\"\n",
    "match (n:File) - [:SPLIT_INTO] -> (c:File) - [:CONVERT_TO] -> (d:File) where c.fileExtension = 'pdf' \n",
    "     return count(d) as count\n",
    "\"\"\")\n",
    "\n",
    "pdf_pages = pdf_pages.iloc[0]['count']"
   ]
  },
  {
   "cell_type": "markdown",
   "id": "f1f36164-8a1a-4f87-8f6f-3dcb5144eff2",
   "metadata": {},
   "source": [
    "### Number of MS Office document pages\n",
    "### Excel files count as one page (sheet)"
   ]
  },
  {
   "cell_type": "code",
   "execution_count": null,
   "id": "fd7140f7",
   "metadata": {},
   "outputs": [],
   "source": [
    "all_ms = return_from_neo4j(\"\"\"\n",
    "match (n:Folder) - [:CONTAINS] -> (e:File) \n",
    "where e.fileExtension in ['doc', 'docx', 'ppt', 'pptx'] \n",
    "return e.nodeID as nodeID, e.originalPath as path, e.fileExtension as file_extension\n",
    "\"\"\")\n",
    "\n",
    "all_ms"
   ]
  },
  {
   "cell_type": "code",
   "execution_count": null,
   "id": "a9d67dbe",
   "metadata": {},
   "outputs": [],
   "source": [
    "def get_page_count(path):\n",
    "    \n",
    "    with open(path, 'r') as f:\n",
    "        data = json.load(f)\n",
    "    try:\n",
    "        return int(data['metadata']['xmpTPg:NPages']) if 'xmpTPg:NPages' in data['metadata'] else int(data['metadata']['meta:slide-count'])\n",
    "    except KeyError:\n",
    "        return 0\n",
    "    except TypeError:\n",
    "        return int(data['metadata']['xmpTPg:NPages'][0]) if 'xmpTPg:NPages' in data['metadata'] else int(data['metadata']['meta:slide-count'][0])"
   ]
  },
  {
   "cell_type": "code",
   "execution_count": null,
   "id": "4d477ccc",
   "metadata": {},
   "outputs": [],
   "source": [
    "%%time\n",
    "\n",
    "word_pages = []\n",
    "ppt_pages = []\n",
    "for i, row in tqdm(all_ms.iterrows(), total = all_ms.shape[0]):\n",
    "    if row['file_extension'] == 'doc' or row['file_extension'] == 'docx':\n",
    "        word_pages.append(get_page_count(f\"../text_extraction/ms_tika/{row['nodeID']}.json\"))\n",
    "    else:\n",
    "        ppt_pages.append(get_page_count(f\"../text_extraction/ms_tika/{row['nodeID']}.json\"))\n",
    "    "
   ]
  },
  {
   "cell_type": "code",
   "execution_count": null,
   "id": "dd3a5301",
   "metadata": {},
   "outputs": [],
   "source": [
    "sum(word_pages)"
   ]
  },
  {
   "cell_type": "code",
   "execution_count": null,
   "id": "391369a8",
   "metadata": {},
   "outputs": [],
   "source": [
    "sum(ppt_pages)"
   ]
  },
  {
   "cell_type": "code",
   "execution_count": null,
   "id": "fa91f87d-836b-48f1-ac6b-3e3f56c11e4a",
   "metadata": {},
   "outputs": [],
   "source": [
    "excel_pages = file_extensions.loc[file_extensions.file_extension == 'xlsx', 'count'].iloc[0] + \\\n",
    "file_extensions.loc[file_extensions.file_extension == 'xls', 'count'].iloc[0]"
   ]
  },
  {
   "cell_type": "markdown",
   "id": "cc102bf2-8b3b-40e9-81d8-0c7713f1b4a9",
   "metadata": {},
   "source": [
    "### total number of documents "
   ]
  },
  {
   "cell_type": "code",
   "execution_count": null,
   "id": "86a1f595-03cd-4686-9901-30e3dd2e01a3",
   "metadata": {},
   "outputs": [],
   "source": [
    "all_documents = return_from_neo4j(\"\"\"\n",
    "match (d:Document) return count(d) as count\n",
    "\"\"\")\n",
    "\n",
    "all_documents['count'].iloc[0]"
   ]
  },
  {
   "cell_type": "code",
   "execution_count": null,
   "id": "2ed5072c-714d-43aa-89a1-0eeb6f3e533d",
   "metadata": {},
   "outputs": [],
   "source": [
    "### total number of documents \n",
    "20780 + 1014 + 364 + 310 + 76 + 309"
   ]
  },
  {
   "cell_type": "code",
   "execution_count": null,
   "id": "34d99d2f-af56-4150-8c78-5261e01d05f9",
   "metadata": {},
   "outputs": [],
   "source": [
    "file_extensions"
   ]
  },
  {
   "cell_type": "code",
   "execution_count": null,
   "id": "80eecf83",
   "metadata": {},
   "outputs": [],
   "source": [
    "document_values = [all_documents['count'].iloc[0], \n",
    "                   file_extensions.loc[file_extensions.file_extension == 'docx', 'count'].iloc[0] +\n",
    "                   file_extensions.loc[file_extensions.file_extension == 'doc', 'count'].iloc[0], \n",
    "                  file_extensions.loc[file_extensions.file_extension == 'pptx', 'count'].iloc[0] +\n",
    "                  file_extensions.loc[file_extensions.file_extension == 'ppt', 'count'].iloc[0],\n",
    "                  file_extensions.loc[file_extensions.file_extension == 'xlsx', 'count'].iloc[0] +\n",
    "                  file_extensions.loc[file_extensions.file_extension == 'xls', 'count'].iloc[0]]\n",
    "document_values_legend = [\"pdf\", \"word\", \"powerpoint\", \"excel\"]"
   ]
  },
  {
   "cell_type": "code",
   "execution_count": null,
   "id": "61447ccd-e619-480d-955e-6dd527993ae4",
   "metadata": {},
   "outputs": [],
   "source": [
    "sum(file_extensions.loc[~file_extensions.file_extension.isin([\"pdf\", \"docx\", \"doc\", \"pptx\", \"ppt\", \"xlsx\", \"xls\"]), \"count\"])"
   ]
  },
  {
   "cell_type": "code",
   "execution_count": null,
   "id": "04e26986",
   "metadata": {},
   "outputs": [],
   "source": [
    "page_values = [pdf_pages, sum(word_pages), sum(ppt_pages), excel_pages]\n",
    "file_values = [file_extensions.loc[file_extensions.file_extension == \"pdf\", \"count\"].iloc[0],\n",
    "               file_extensions.loc[file_extensions.file_extension == 'docx', 'count'].iloc[0] +\n",
    "               file_extensions.loc[file_extensions.file_extension == 'doc', 'count'].iloc[0],\n",
    "               file_extensions.loc[file_extensions.file_extension == 'pptx', 'count'].iloc[0] +\n",
    "               file_extensions.loc[file_extensions.file_extension == 'ppt', 'count'].iloc[0],\n",
    "               file_extensions.loc[file_extensions.file_extension == 'xlsx', 'count'].iloc[0] +\n",
    "               file_extensions.loc[file_extensions.file_extension == 'xls', 'count'].iloc[0],\n",
    "                sum(file_extensions.loc[~file_extensions.file_extension.isin([\"pdf\", \"docx\", \"doc\", \"pptx\", \"ppt\", \"xlsx\", \"xls\"]), \"count\"])]\n",
    "file_values_legend = ['pdf', 'word', 'powerpoint', 'excel', \"other\"]\n",
    "page_values_legend = ['pdf', 'word', 'powerpoint', 'excel']"
   ]
  },
  {
   "cell_type": "code",
   "execution_count": null,
   "id": "d7f8914f",
   "metadata": {},
   "outputs": [],
   "source": [
    "def cmap_key(key):\n",
    "    \n",
    "    color = {\"pdf\": \"FFC06D\",\n",
    "    \"word\": \"1588E0\",\n",
    "    \"powerpoint\": \"BB443A\",\n",
    "    \"excel\":\"00A651\",\n",
    "    \"other\": \"D3D3D3\"}\n",
    "    \n",
    "    return np.array([int(color[key][i:i+2], 16) for i in (0, 2, 4)])/255.\n"
   ]
  },
  {
   "cell_type": "code",
   "execution_count": null,
   "id": "5c1e6128",
   "metadata": {},
   "outputs": [],
   "source": [
    "# taken from https://towardsdatascience.com/create-eye-catching-radial-bar-charts-with-matplotlib-fd03ff732048\n",
    "\n",
    "matplotlib.rcParams.update({\"axes.labelsize\": 7,\n",
    "\"xtick.labelsize\": 7,\n",
    "\"ytick.labelsize\": 7,\n",
    "\"legend.fontsize\": 7,\n",
    "\"font.size\":7})\n",
    "matplotlib.rc('font', family='Helvetica') \n",
    "matplotlib.rc('pdf', fonttype=42)\n",
    "matplotlib.rc('text', usetex='false') \n",
    "matplotlib.rcParams['axes.unicode_minus'] = False\n",
    "\n",
    "matplotlib.rcParams['xtick.major.size'] = 2\n",
    "matplotlib.rcParams['xtick.major.width'] = 0.5\n",
    "matplotlib.rcParams['xtick.minor.size'] = 2\n",
    "matplotlib.rcParams['xtick.minor.width'] = 0.5\n",
    "\n",
    "matplotlib.rcParams['ytick.major.size'] = 2\n",
    "matplotlib.rcParams['ytick.major.width'] = 0.5\n",
    "matplotlib.rcParams['ytick.minor.size'] = 2\n",
    "matplotlib.rcParams['ytick.minor.width'] = 0.5\n",
    "\n",
    "fig, ax = plt.subplots(1, 1, figsize = (50 * (1/2.54/10), 50 * (1/2.54/10)), dpi = 300, subplot_kw=dict(projection=\"polar\") )\n",
    "\n",
    "rect = [0.1,0.1,0.8,0.8]\n",
    "ax.set_theta_direction(1)\n",
    "ax.set_theta_offset(np.pi  / 2.0)\n",
    "\n",
    "\n",
    "page_values = page_values / np.sum(page_values)*1.5*np.pi\n",
    "vals_page = np.cumsum(np.append(0, page_values.flatten()[:-1])).reshape(page_values.shape)\n",
    "file_values = file_values / np.sum(file_values)*1.5*np.pi\n",
    "vals_file = np.cumsum(np.append(0, file_values.flatten()[:-1])).reshape(file_values.shape)\n",
    "doc_values = document_values / np.sum(document_values)*1.5*np.pi\n",
    "vals_doc = np.cumsum(np.append(0, doc_values.flatten()[:-1])).reshape(doc_values.shape)\n",
    "\n",
    "cmap = matplotlib.cm.get_cmap(\"coolwarm\")\n",
    "ax.bar(x=vals_file, width=file_values, bottom = 1 , color = [cmap_key(k) for k in file_values_legend], height=0.3, align ='edge', linewidth = 0.1)\n",
    "ax.bar(x=vals_doc, width=doc_values, bottom = 1 - 0.3 - 0.05 , color = [cmap_key(k) for k in document_values_legend], height=0.3, align ='edge', linewidth = 0.1)\n",
    "ax.bar(x=vals_page, width=page_values, bottom = 1 - 0.3 - 0.3 - 0.05 - 0.05, color = [cmap_key(k) for k in page_values_legend], height=0.3, align ='edge', linewidth = 0.1)\n",
    "\n",
    "# Hide all axis items\n",
    "ax.spines['polar'].set_visible(False)\n",
    "ax.set_xticks(np.pi/2* np.linspace(0, 3, 6, endpoint = True), [str(int(i * 100)) + \"%\" for i in np.linspace(0, 1, 6)])\n",
    "ax.set_rticks([])\n",
    "\n",
    "ax.grid(linewidth=0.5, color = 'k')\n",
    "\n",
    "ax.spines['polar'].set_color('black')\n",
    "ax.spines['start'].set_color('black')\n",
    "ax.spines['inner'].set_color('black')\n",
    "ax.spines['end'].set_color('black')\n",
    "ax.xaxis.label.set_color('black')\n",
    "ax.tick_params(axis='x', colors='black')\n",
    "ax.yaxis.label.set_color('black')\n",
    "ax.tick_params(axis='y', colors='black')\n",
    "ax.spines['polar'].set_linewidth(0.5)\n",
    "ax.spines['start'].set_linewidth(0.5)\n",
    "ax.spines['inner'].set_linewidth(0.5)\n",
    "ax.spines['end'].set_linewidth(0.5)\n",
    "ax.xaxis.grid(True,color='k', alpha = 1)  \n",
    "ax.yaxis.grid(False)\n",
    "\n",
    "fig.tight_layout()\n",
    "# plt.savefig('../cache/circle_stats_together_smaller.pdf', transparent=True, dpi = 300)\n",
    "plt.show()"
   ]
  },
  {
   "cell_type": "code",
   "execution_count": null,
   "id": "01cc49c0",
   "metadata": {},
   "outputs": [],
   "source": []
  }
 ],
 "metadata": {
  "kernelspec": {
   "display_name": "Python 3 (ipykernel)",
   "language": "python",
   "name": "python3"
  },
  "language_info": {
   "codemirror_mode": {
    "name": "ipython",
    "version": 3
   },
   "file_extension": ".py",
   "mimetype": "text/x-python",
   "name": "python",
   "nbconvert_exporter": "python",
   "pygments_lexer": "ipython3",
   "version": "3.9.16"
  }
 },
 "nbformat": 4,
 "nbformat_minor": 5
}
