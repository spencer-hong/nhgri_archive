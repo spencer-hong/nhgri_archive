{
 "cells": [
  {
   "cell_type": "code",
   "execution_count": 1,
   "metadata": {},
   "outputs": [],
   "source": [
    "import sys\n",
    "\n",
    "import numpy as np\n",
    "import pandas as pd\n",
    "import seaborn as sns\n",
    "\n",
    "import matplotlib.pyplot as plt\n",
    "\n",
    "sys.path.append(\n",
    "    './gustav/src/'\n",
    "\n",
    ")\n",
    "\n",
    "from gustav import ncbi, nlm, nih"
   ]
  },
  {
   "cell_type": "code",
   "execution_count": 2,
   "metadata": {},
   "outputs": [],
   "source": [
    "ml = ncbi.pubmed('main', columns=['pubmed_id', 'year'])"
   ]
  },
  {
   "cell_type": "code",
   "execution_count": 99,
   "metadata": {},
   "outputs": [],
   "source": [
    "meshs = ncbi.pubmed('mesh_terms')\n",
    "ui2mn = nlm.mesh('ui2mn')\n",
    "\n",
    "helper = meshs[['mesh_terms']].drop_duplicates()\n",
    "helper['ui'] = helper['mesh_terms'].str.split(':', expand=True)[0]\n",
    "helper['is_technology'] = helper['ui'].isin(ui2mn[ui2mn['mn'].str.startswith('E')]['ui'])\n",
    "\n",
    "meshs = pd.merge(meshs, helper)"
   ]
  },
  {
   "cell_type": "code",
   "execution_count": null,
   "metadata": {},
   "outputs": [],
   "source": []
  },
  {
   "cell_type": "code",
   "execution_count": null,
   "metadata": {},
   "outputs": [],
   "source": []
  },
  {
   "cell_type": "code",
   "execution_count": null,
   "metadata": {},
   "outputs": [],
   "source": []
  },
  {
   "cell_type": "code",
   "execution_count": 100,
   "metadata": {},
   "outputs": [],
   "source": [
    "citations = nih.icite('studies', columns=['pubmed_id', 'year', 'relative_citation_ratio', 'is_research_article', 'citations_per_year'])"
   ]
  },
  {
   "cell_type": "code",
   "execution_count": 101,
   "metadata": {},
   "outputs": [],
   "source": [
    "window = range(2006, 2016)"
   ]
  },
  {
   "cell_type": "code",
   "execution_count": 102,
   "metadata": {},
   "outputs": [],
   "source": [
    "c = 'citations_per_year'\n",
    "cit = citations[citations['is_research_article']][['pubmed_id', 'year', c]].dropna().reset_index(drop=True)\n",
    "cit['citation_rank'] = cit.groupby(['year'])[c].rank(pct=True)\n",
    "df = ml.merge(meshs[meshs['is_technology']], on='pubmed_id').merge(cit, on=['pubmed_id', 'year'])\n",
    "g = df[df['year'].isin(window)].groupby('mesh_terms')"
   ]
  },
  {
   "cell_type": "code",
   "execution_count": null,
   "metadata": {},
   "outputs": [],
   "source": [
    "df[df['year'].isin(window)].groupby('mesh_terms').size()['D055106:Genome-Wide Association Study']"
   ]
  },
  {
   "cell_type": "code",
   "execution_count": null,
   "metadata": {},
   "outputs": [],
   "source": [
    "cit.pubmed_id.unique().shape"
   ]
  },
  {
   "cell_type": "code",
   "execution_count": 31,
   "metadata": {},
   "outputs": [],
   "source": [
    "res = pd.concat(\n",
    "    [\n",
    "        g['citation_rank'].median().sort_values(ascending=False).to_frame('median_citations'),\n",
    "        g.size().to_frame('papers'),\n",
    "        g['citation_rank'].apply(lambda x: np.mean(x>0.95)).to_frame('proportion_high_citations')\n",
    "    ],\n",
    "    axis=1\n",
    ").reset_index()\n",
    "\n",
    "res['log_papers'] = np.log10(res['papers'])\n",
    "res = res.set_index('mesh_terms', verify_integrity=True)"
   ]
  },
  {
   "cell_type": "code",
   "execution_count": null,
   "metadata": {},
   "outputs": [],
   "source": [
    "sns.displot(res[res['papers']>0]['median_citations'])\n",
    "plt.axvline(x=res.loc['D055106:Genome-Wide Association Study', 'median_citations'], color='red')\n",
    "plt.xlim([0, 1])\n",
    "plt.show()\n",
    "\n"
   ]
  },
  {
   "cell_type": "code",
   "execution_count": null,
   "metadata": {},
   "outputs": [],
   "source": [
    "sns.displot(res[res['papers']>0]['proportion_high_citations'])\n",
    "plt.axvline(x=res.loc['D055106:Genome-Wide Association Study', 'proportion_high_citations'], color='red')\n",
    "plt.xlim([0, 1])\n",
    "plt.show()"
   ]
  },
  {
   "cell_type": "code",
   "execution_count": 33,
   "metadata": {},
   "outputs": [],
   "source": [
    "g2p = ncbi.pubtator_medline('pooled_counts_gene_unambiguous')\n",
    "g2p = g2p[g2p['bioconcept_title_or_abstract']>0][['pubmed_id', 'gene_ncbi']].drop_duplicates()\n",
    "gi = ncbi.gene_info(9606)\n",
    "gi = gi[gi['type_of_gene']=='protein-coding']\n",
    "g2p = g2p[g2p['gene_ncbi'].isin(gi['gene_ncbi'])]\n",
    "first_years = pd.merge(ml, g2p).groupby('gene_ncbi')['year'].min()\n"
   ]
  },
  {
   "cell_type": "code",
   "execution_count": 34,
   "metadata": {},
   "outputs": [],
   "source": [
    "df = ml.merge(meshs[meshs['is_technology']], on='pubmed_id').merge(g2p)\n",
    "df['new_gene'] = ~df['gene_ncbi'].isin(first_years[first_years<2000].index)"
   ]
  },
  {
   "cell_type": "code",
   "execution_count": 35,
   "metadata": {},
   "outputs": [],
   "source": [
    "df = df.groupby(['year', 'pubmed_id', 'mesh_terms'])['new_gene'].any().to_frame('any_new_gene').reset_index()\n",
    "g = df[df['year'].isin(window)].groupby('mesh_terms')"
   ]
  },
  {
   "cell_type": "code",
   "execution_count": 37,
   "metadata": {},
   "outputs": [],
   "source": [
    "res_1 = pd.concat(\n",
    "    [\n",
    "        g['any_new_gene'].mean().sort_values(ascending=False).to_frame('any_new_gene'),\n",
    "        g.size().to_frame('papers'),\n",
    "    ],\n",
    "    axis=1\n",
    ").reset_index()\n",
    "res_1 = res_1.set_index('mesh_terms', verify_integrity=True)"
   ]
  },
  {
   "cell_type": "code",
   "execution_count": null,
   "metadata": {},
   "outputs": [],
   "source": [
    "sns.displot(res_1[res_1['papers']>0]['any_new_gene'])\n",
    "plt.axvline(x=res_1.loc['D055106:Genome-Wide Association Study', 'any_new_gene'], color='red')\n",
    "plt.xlim([0, 1])\n",
    "plt.show()"
   ]
  },
  {
   "cell_type": "code",
   "execution_count": null,
   "metadata": {},
   "outputs": [],
   "source": [
    "res[res['papers']>0].shape[0]"
   ]
  },
  {
   "cell_type": "code",
   "execution_count": null,
   "metadata": {},
   "outputs": [],
   "source": [
    "res[res['papers']>0].sort_values('proportion_high_citations', ascending = False).reset_index().head(50)"
   ]
  },
  {
   "cell_type": "code",
   "execution_count": null,
   "metadata": {},
   "outputs": [],
   "source": [
    "res.loc['D055106:Genome-Wide Association Study']"
   ]
  },
  {
   "cell_type": "code",
   "execution_count": null,
   "metadata": {},
   "outputs": [],
   "source": [
    "import matplotlib.pyplot as plt\n",
    "import matplotlib\n",
    "import seaborn as sns\n",
    "\n",
    "sns.set_style('white', rc={\n",
    "    'xtick.bottom': True,\n",
    "    'ytick.left': True,\n",
    "})\n",
    "\n",
    "sns.color_palette(\"Set1\")\n",
    "\n",
    "matplotlib.rc('font', family='Helvetica') \n",
    "matplotlib.rc('pdf', fonttype=42)\n",
    "matplotlib.rc('text', usetex='false') \n",
    "matplotlib.rcParams['axes.unicode_minus'] = False\n",
    "\n",
    "matplotlib.rcParams['xtick.major.size'] = 2\n",
    "matplotlib.rcParams['xtick.major.width'] = 0.5\n",
    "matplotlib.rcParams['xtick.minor.size'] = 2\n",
    "matplotlib.rcParams['xtick.minor.width'] = 0.5\n",
    "\n",
    "matplotlib.rcParams['ytick.major.size'] = 2\n",
    "matplotlib.rcParams['ytick.major.width'] = 0.5\n",
    "matplotlib.rcParams['ytick.minor.size'] = 2\n",
    "matplotlib.rcParams['ytick.minor.width'] = 0.5\n",
    "\n",
    "\n",
    "matplotlib.rcParams.update({\"axes.labelsize\": 10,\n",
    "\"xtick.labelsize\": 10,\n",
    "\"ytick.labelsize\": 10,\n",
    "\"legend.fontsize\": 14,\n",
    "\"font.size\":7})\n",
    "\n",
    "fig, (ax1, ax2) = plt.subplots(2, 1, figsize=(4, 3), dpi=300)\n",
    "\n",
    "\n",
    "sns.histplot(res[res['papers']>0]['proportion_high_citations'], ax = ax1, color = \"grey\")\n",
    "ax1.axvline(x=res.loc['D055106:Genome-Wide Association Study', 'proportion_high_citations'], color='maroon')\n",
    "\n",
    "\n",
    "ax1.tick_params(axis='x', colors='black')\n",
    "ax1.yaxis.label.set_color('black')\n",
    "ax1.tick_params(axis='y', colors='black')\n",
    "ax1.spines['bottom'].set_linewidth(0.5)\n",
    "ax1.spines['left'].set_linewidth(0.5)\n",
    "sns.despine()\n",
    "ax1.set_ylabel(\"\")\n",
    "ax1.set_xlabel(\"Share of manuscripts among 5% top cited\")\n",
    "\n",
    "ax1.set_xlim([0.05, 0.3])\n",
    "ax2.set_xlim([0, 0.3])\n",
    "ax1.set_ylim([0, 150])\n",
    "# ax2.set_ylim([0, 50])\n",
    "ax2.set_xlabel(\"Share of new genes introduced\")\n",
    "sns.histplot(res_1[res_1['papers']>0]['any_new_gene'], ax = ax2, color = \"grey\")\n",
    "ax2.axvline(x=res_1.loc['D055106:Genome-Wide Association Study', 'any_new_gene'], color='maroon')\n",
    "\n",
    "ax2.tick_params(axis='x', colors='black')\n",
    "ax2.yaxis.label.set_color('black')\n",
    "ax2.tick_params(axis='y', colors='black')\n",
    "ax2.spines['bottom'].set_linewidth(0.5)\n",
    "ax2.spines['left'].set_linewidth(0.5)\n",
    "ax1.yaxis.label.set_color('black')\n",
    "ax1.xaxis.label.set_color('black')\n",
    "ax2.yaxis.label.set_color('black')\n",
    "ax2.xaxis.label.set_color('black')\n",
    "ax2.set_ylabel(\"\")\n",
    "ax1.text(0.205, 40, \"GWAS\", fontsize = 12, c = \"maroon\")\n",
    "ax2.text(0.27, 400, \"GWAS\", fontsize = 12, c = \"maroon\")\n",
    "plt.tight_layout()\n",
    "plt.savefig(\"../figures/GWAS_innovation.pdf\", bbox_inches = \"tight\", dpi = 300)"
   ]
  },
  {
   "cell_type": "code",
   "execution_count": null,
   "metadata": {},
   "outputs": [],
   "source": []
  },
  {
   "cell_type": "code",
   "execution_count": null,
   "metadata": {},
   "outputs": [],
   "source": []
  },
  {
   "cell_type": "code",
   "execution_count": null,
   "metadata": {},
   "outputs": [],
   "source": []
  },
  {
   "cell_type": "code",
   "execution_count": null,
   "metadata": {},
   "outputs": [],
   "source": []
  },
  {
   "cell_type": "code",
   "execution_count": null,
   "metadata": {},
   "outputs": [],
   "source": []
  },
  {
   "cell_type": "code",
   "execution_count": null,
   "metadata": {},
   "outputs": [],
   "source": []
  },
  {
   "cell_type": "code",
   "execution_count": null,
   "metadata": {},
   "outputs": [],
   "source": []
  },
  {
   "cell_type": "code",
   "execution_count": null,
   "metadata": {},
   "outputs": [],
   "source": []
  },
  {
   "cell_type": "code",
   "execution_count": null,
   "metadata": {},
   "outputs": [],
   "source": []
  },
  {
   "cell_type": "code",
   "execution_count": null,
   "metadata": {},
   "outputs": [],
   "source": []
  },
  {
   "cell_type": "code",
   "execution_count": null,
   "metadata": {},
   "outputs": [],
   "source": []
  },
  {
   "cell_type": "code",
   "execution_count": null,
   "metadata": {},
   "outputs": [],
   "source": []
  },
  {
   "cell_type": "code",
   "execution_count": null,
   "metadata": {},
   "outputs": [],
   "source": []
  }
 ],
 "metadata": {
  "kernelspec": {
   "display_name": "Python 3 (ipykernel)",
   "language": "python",
   "name": "python3"
  },
  "language_info": {
   "codemirror_mode": {
    "name": "ipython",
    "version": 3
   },
   "file_extension": ".py",
   "mimetype": "text/x-python",
   "name": "python",
   "nbconvert_exporter": "python",
   "pygments_lexer": "ipython3",
   "version": "3.7.13"
  }
 },
 "nbformat": 4,
 "nbformat_minor": 4
}
