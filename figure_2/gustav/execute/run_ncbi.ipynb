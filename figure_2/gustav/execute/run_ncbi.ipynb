{
 "cells": [
  {
   "cell_type": "code",
   "execution_count": 1,
   "metadata": {},
   "outputs": [],
   "source": [
    "%load_ext autoreload\n",
    "%autoreload 2 "
   ]
  },
  {
   "cell_type": "code",
   "execution_count": 2,
   "metadata": {},
   "outputs": [],
   "source": [
    "import sys\n",
    "\n",
    "sys.path.append(\n",
    "    './../src/'\n",
    ")\n",
    "\n",
    "from preparator import ncbi"
   ]
  },
  {
   "cell_type": "code",
   "execution_count": 3,
   "metadata": {},
   "outputs": [],
   "source": [
    "# from preparator.ncbi import *\n",
    "\n",
    "# p = '/Volumes/active_gustav_and_supplements/ACTIVE_gustav_big_data/input/manual/nlm/pubmed/baseline/2023-01-14/pubmed23n0004.xml.gz'\n",
    "\n",
    "# batch_size = 25\n",
    "\n",
    "# data_version = inout.get_data_version('pubmed')\n",
    "\n",
    "# in_dir = inout.get_input_path(\n",
    "#     'manual/nlm/pubmed/baseline/{}'.format(data_version), big=True)\n",
    "# out_subfolder = 'ncbi/pubmed/{}'.format(data_version)\n",
    "\n",
    "# onlyfiles = [f for f in listdir(in_dir) if isfile(join(in_dir, f))]\n",
    "# organizer = pd.Series(onlyfiles).to_frame('filename')\n",
    "# f = organizer['filename'].str.contains('^pubmed.*\\.xml\\.gz$')\n",
    "# organizer = organizer[f].sort_values(\n",
    "#     'filename').reset_index(drop=True).rename_axis('position').reset_index()\n",
    "# organizer['batch'] = np.ceil((organizer['position'] + 1) / batch_size)\n",
    "# organizer['batch'] = organizer['batch'].astype(int)\n",
    "\n",
    "# # p = os.path.join(out_subfolder, 'index.parquet')\n",
    "# # inout.export_plain_table(organizer, p)\n",
    "\n",
    "# # for batch in organizer['batch'].unique():\n",
    "\n",
    "# #     #         print('Start processing batch', int(batch))\n",
    "# #     files = list(organizer[organizer['batch'] == batch]['filename'].values)\n",
    "\n",
    "# #     agg = []\n",
    "\n",
    "# #     for file in files:\n",
    "# #         p = os.path.join(in_dir, file)\n",
    "\n",
    "# #         dict_out = pp.parse_medline_xml(\n",
    "# #             p,\n",
    "# #             nlm_category=False,\n",
    "# #             author_list=True\n",
    "# #         )\n",
    "# #         agg.extend(dict_out)\n",
    "\n",
    "\n",
    "# organizer\n",
    "\n",
    "\n",
    "\n",
    "# for batch in organizer['batch'].unique():\n",
    "\n",
    "#     print('Start processing batch', int(batch))\n",
    "#     files = list(organizer[organizer['batch'] == batch]['filename'].values)\n",
    "\n",
    "#     agg = []\n",
    "\n",
    "#     for file in files:\n",
    "#         print(file)\n",
    "#         p = os.path.join(in_dir, file)\n",
    "\n",
    "#         dict_out = pp.parse_medline_xml(\n",
    "#             p,\n",
    "#             nlm_category=False,\n",
    "#             author_list=True\n",
    "#         )\n",
    "#         agg.extend(dict_out)\n",
    "\n",
    "# raise AssertionError('stop')"
   ]
  },
  {
   "cell_type": "code",
   "execution_count": null,
   "metadata": {},
   "outputs": [],
   "source": []
  },
  {
   "cell_type": "code",
   "execution_count": null,
   "metadata": {},
   "outputs": [],
   "source": []
  },
  {
   "cell_type": "code",
   "execution_count": null,
   "metadata": {},
   "outputs": [],
   "source": []
  },
  {
   "cell_type": "code",
   "execution_count": null,
   "metadata": {},
   "outputs": [],
   "source": []
  },
  {
   "cell_type": "markdown",
   "metadata": {},
   "source": [
    "# 2023-01-14"
   ]
  },
  {
   "cell_type": "code",
   "execution_count": 4,
   "metadata": {},
   "outputs": [],
   "source": [
    "ncbi.pubmed()"
   ]
  },
  {
   "cell_type": "markdown",
   "metadata": {},
   "source": [
    "# 2022-08-16"
   ]
  },
  {
   "cell_type": "code",
   "execution_count": 5,
   "metadata": {},
   "outputs": [],
   "source": [
    "# ncbi.gene_info()\n",
    "# ncbi.gene2go()\n",
    "# ncbi.gene2pubmed()\n",
    "# ncbi.generif()\n",
    "# ncbi.taxdmp()"
   ]
  },
  {
   "cell_type": "code",
   "execution_count": 6,
   "metadata": {},
   "outputs": [],
   "source": [
    "# ncbi.pubtator_medline_bioconcepts()    # gets position of instances within text\n",
    "# ncbi.pubtator_medline_cache_title_and_abstract()      # gets text of title and abstract and infers lengths\n",
    "# ncbi.pubtator_medline_raw()        # Gets pubtator's linkage of concepts (such as genes) to papers (but not position)\n",
    "# ncbi.pubtator_medline_count_annotations()"
   ]
  },
  {
   "cell_type": "markdown",
   "metadata": {},
   "source": [
    "# 2022-04-05"
   ]
  },
  {
   "cell_type": "code",
   "execution_count": 7,
   "metadata": {},
   "outputs": [],
   "source": [
    "# %%time\n",
    "# ncbi.pubtator_medline_bioconcepts()"
   ]
  },
  {
   "cell_type": "code",
   "execution_count": 8,
   "metadata": {},
   "outputs": [],
   "source": [
    "# %%time\n",
    "# ncbi.pubtator_medline_cache_title_and_abstract()"
   ]
  },
  {
   "cell_type": "code",
   "execution_count": 9,
   "metadata": {},
   "outputs": [],
   "source": [
    "# %%time\n",
    "# ncbi.pubtator_medline_raw()"
   ]
  },
  {
   "cell_type": "code",
   "execution_count": 10,
   "metadata": {},
   "outputs": [],
   "source": [
    "# %%time\n",
    "# ncbi.pubtator_medline_count_annotations()"
   ]
  },
  {
   "cell_type": "markdown",
   "metadata": {},
   "source": [
    "# 2021-11-17"
   ]
  },
  {
   "cell_type": "code",
   "execution_count": 11,
   "metadata": {},
   "outputs": [],
   "source": [
    "# ncbi.gene_info()\n",
    "# ncbi.gene2go()\n",
    "# ncbi.gene2pubmed()\n",
    "# ncbi.generif()\n",
    "# ncbi.taxdmp()"
   ]
  },
  {
   "cell_type": "code",
   "execution_count": 12,
   "metadata": {},
   "outputs": [],
   "source": [
    "# ncbi.pubtator_articles('covid19')\n",
    "# ncbi.pubtator_genes('covid19')\n",
    "# ncbi.pubtator_concepts('covid19')"
   ]
  },
  {
   "cell_type": "markdown",
   "metadata": {},
   "source": [
    "# Prior 2021-11-17"
   ]
  },
  {
   "cell_type": "code",
   "execution_count": 13,
   "metadata": {},
   "outputs": [],
   "source": [
    "# ncbi.bioprojects()\n",
    "# ncbi.homologene()\n",
    "# ncbi.pubtator_medline_bioconcepts()\n",
    "# ncbi.pubtator_medline_cache_title_and_abstract()\n",
    "# ncbi.pubtator_medline_raw()\n",
    "# ncbi.pubtator_medline_count_annotations()\n",
    "# ncbi.pubmed()\n",
    "# ncbi.biosystems()"
   ]
  },
  {
   "cell_type": "code",
   "execution_count": null,
   "metadata": {},
   "outputs": [],
   "source": []
  },
  {
   "cell_type": "code",
   "execution_count": null,
   "metadata": {},
   "outputs": [],
   "source": []
  }
 ],
 "metadata": {
  "kernelspec": {
   "display_name": "Python 3",
   "language": "python",
   "name": "python3"
  },
  "language_info": {
   "codemirror_mode": {
    "name": "ipython",
    "version": 3
   },
   "file_extension": ".py",
   "mimetype": "text/x-python",
   "name": "python",
   "nbconvert_exporter": "python",
   "pygments_lexer": "ipython3",
   "version": "3.7.7"
  },
  "toc": {
   "base_numbering": 1,
   "nav_menu": {},
   "number_sections": true,
   "sideBar": true,
   "skip_h1_title": false,
   "title_cell": "Table of Contents",
   "title_sidebar": "Contents",
   "toc_cell": false,
   "toc_position": {},
   "toc_section_display": true,
   "toc_window_display": false
  }
 },
 "nbformat": 4,
 "nbformat_minor": 4
}
