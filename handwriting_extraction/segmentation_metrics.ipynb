{
 "cells": [
  {
   "cell_type": "code",
   "execution_count": null,
   "metadata": {},
   "outputs": [],
   "source": [
    "from pathlib import Path\n",
    "\n",
    "data_dir = 'data/test'"
   ]
  },
  {
   "cell_type": "code",
   "execution_count": null,
   "metadata": {
    "id": "OyRA76OGpvbj"
   },
   "outputs": [],
   "source": [
    "import numpy as np\n",
    "import cv2\n",
    "from sklearn.metrics import jaccard_score, precision_score, recall_score, f1_score\n",
    "from tqdm import tqdm"
   ]
  },
  {
   "cell_type": "code",
   "execution_count": null,
   "metadata": {
    "id": "Wwlcl3TBq9Su"
   },
   "outputs": [],
   "source": [
    "def load_and_convert_image(image_path, reverse = False):\n",
    "    \n",
    "    image = cv2.imread(image_path, 0)\n",
    "    if reverse:\n",
    "        image = cv2.subtract(255, image) \n",
    "    return image\n",
    "\n",
    "def prepare_binary_mask(mask, threshold=127):\n",
    "    \n",
    "    _, binary_mask = cv2.threshold(mask, threshold, 255, cv2.THRESH_BINARY)\n",
    "    binary_mask = binary_mask / 255  # Convert to 0 and 1\n",
    "    return binary_mask\n",
    "\n",
    "\n",
    "def calculate_segmentation_metrics(true_mask, predicted_mask):\n",
    "    true_mask_flat = true_mask.flatten()\n",
    "    predicted_mask_flat = predicted_mask.flatten()\n",
    "\n",
    "    # metrics\n",
    "    precision = precision_score(true_mask_flat, predicted_mask_flat)\n",
    "    recall = recall_score(true_mask_flat, predicted_mask_flat)\n",
    "    f1 = f1_score(true_mask_flat, predicted_mask_flat)\n",
    "    iou = jaccard_score(true_mask_flat, predicted_mask_flat)\n",
    "    return precision, recall, f1, iou\n",
    "\n"
   ]
  },
  {
   "cell_type": "code",
   "execution_count": null,
   "metadata": {
    "id": "gVCEJtu6reow"
   },
   "outputs": [],
   "source": [
    "# image path\n",
    "\n",
    "original_image_path = list(Path(data_dir).glob(\"*_orig.png\"))\n",
    "\n",
    "handwritten_mask_path = [Path(data_dir) / (i.stem.rstrip('_orig') + \"_gt.png\") for i in original_image_path]\n",
    "\n",
    "model_output_path = [Path('inference_test/') / (i.stem.rstrip('_orig') + \"_tr_CLEANED_TO.png\") for i in original_image_path]\n",
    "\n",
    "original_image = load_and_convert_image(original_image_path[0].as_posix())\n",
    "handwritten_mask = load_and_convert_image(handwritten_mask_path[0].as_posix(), reverse = True)\n",
    "model_output = load_and_convert_image(model_output_path[0].as_posix())\n",
    "\n",
    "binary_mask = prepare_binary_mask(handwritten_mask)\n",
    "binary_model_output = prepare_binary_mask(model_output)\n",
    "binary_original = prepare_binary_mask(original_image)"
   ]
  },
  {
   "cell_type": "code",
   "execution_count": null,
   "metadata": {
    "colab": {
     "base_uri": "https://localhost:8080/"
    },
    "id": "wUo2cdVargy5",
    "outputId": "fa9eac55-abc0-43ad-f22e-b08634f58e49"
   },
   "outputs": [],
   "source": [
    "# basic metrics\n",
    "precision, recall, f1, iou = calculate_segmentation_metrics(binary_mask, binary_model_output)\n",
    "\n",
    "print(f'Precision: {precision:.4f}')\n",
    "print(f'Recall: {recall:.4f}')\n",
    "print(f'F1 Score: {f1:.4f}')\n",
    "print(f'IoU (Intersection over Union): {iou:.4f}')"
   ]
  },
  {
   "cell_type": "code",
   "execution_count": null,
   "metadata": {},
   "outputs": [],
   "source": [
    "def prepare_images(original_image, handwritten_mask, model_output):\n",
    "    original_image = load_and_convert_image(original_image)\n",
    "    handwritten_mask = load_and_convert_image(handwritten_mask, reverse = True)\n",
    "    model_output = load_and_convert_image(model_output)\n",
    "\n",
    "    binary_mask = prepare_binary_mask(handwritten_mask)\n",
    "    binary_model_output = prepare_binary_mask(model_output)\n",
    "    binary_original = prepare_binary_mask(original_image)\n",
    "    \n",
    "    return binary_mask, binary_model_output, binary_original"
   ]
  },
  {
   "cell_type": "code",
   "execution_count": null,
   "metadata": {},
   "outputs": [],
   "source": [
    "accuracy = []\n",
    "for i in tqdm(range(0, len(original_image_path))):\n",
    "    binary_mask, binary_model_output, binary_original = prepare_images(\n",
    "        original_image_path[i].as_posix(),\n",
    "        handwritten_mask_path[i].as_posix(),\n",
    "        model_output_path[i].as_posix()\n",
    "    )\n",
    "    \n",
    "    precision, recall, f1, iou = calculate_segmentation_metrics(binary_mask, binary_model_output)\n",
    "    \n",
    "    accuracy.append((precision, recall, f1, iou))"
   ]
  },
  {
   "cell_type": "code",
   "execution_count": null,
   "metadata": {},
   "outputs": [],
   "source": [
    "import pandas as pd"
   ]
  },
  {
   "cell_type": "code",
   "execution_count": null,
   "metadata": {},
   "outputs": [],
   "source": [
    "pd.DataFrame(accuracy, columns = [\"precision\", \"recall\", \"f1\", \"iou\"]).describe()"
   ]
  },
  {
   "cell_type": "code",
   "execution_count": null,
   "metadata": {},
   "outputs": [],
   "source": []
  },
  {
   "cell_type": "code",
   "execution_count": null,
   "metadata": {},
   "outputs": [],
   "source": []
  },
  {
   "cell_type": "code",
   "execution_count": null,
   "metadata": {
    "id": "DHq2kEaDtpRj"
   },
   "outputs": [],
   "source": [
    "def calculate_advanvced_metrics(original, handwritten_mask, predicted_mask):\n",
    "    # Assuming [0 1] images\n",
    "\n",
    "    # Text that should be removed (intersection between original and handwritten mask)\n",
    "    should_remove = original * handwritten_mask\n",
    "\n",
    "    # Successfully removed text (intersection between what should have been removed and what was predicted)\n",
    "    successfully_removed = should_remove * predicted_mask\n",
    "\n",
    "    # Complete removal rate\n",
    "    complete_removal_rate = np.sum(successfully_removed) / np.sum(should_remove) if np.sum(should_remove) > 0 else 1.0  # Avoid division by zero\n",
    "\n",
    "    # Integrity of printed text (text that should NOT have been removed and remained)\n",
    "    should_keep = original * (1 - handwritten_mask)\n",
    "    kept_text = should_keep * (1 - predicted_mask)  # Inverse of the prediction since we are considering what remains\n",
    "    printed_text_integrity = np.sum(kept_text) / np.sum(should_keep) if np.sum(should_keep) > 0 else 1.0  # Adding condition here\n",
    "\n",
    "    # Obfuscation Error Rate (part of the handwritten that was not removed)\n",
    "    erroneous_preservation = should_remove * (1 - predicted_mask)\n",
    "    obfuscation_error_rate = np.sum(erroneous_preservation) / np.sum(should_remove) if np.sum(should_remove) > 0 else 0.0\n",
    "\n",
    "    return complete_removal_rate, printed_text_integrity, obfuscation_error_rate"
   ]
  },
  {
   "cell_type": "code",
   "execution_count": null,
   "metadata": {
    "colab": {
     "base_uri": "https://localhost:8080/"
    },
    "id": "duIWNrHAuBZB",
    "outputId": "6de1708b-fb9a-48f9-f45b-a1e9bc5b6965"
   },
   "outputs": [],
   "source": [
    "# calculate advanved metrics\n",
    "# Not sure we need it, as it will need to be explained in text. With this sample, it makes no difference, but with the original test set, where we have less accuracy, the results could be interesting\n",
    "complete_removal_rate, printed_text_integrity, obfuscation_error_rate = calculate_advanvced_metrics(binary_original, binary_mask, binary_model_output)\n",
    "\n",
    "print(f'Complete Removal Rate: {complete_removal_rate:.4f}')\n",
    "print(f'Printed Text Integrity: {printed_text_integrity:.4f}')\n",
    "print(f'Obfuscation Error Rate: {obfuscation_error_rate:.4f}')"
   ]
  },
  {
   "cell_type": "code",
   "execution_count": null,
   "metadata": {},
   "outputs": [],
   "source": []
  }
 ],
 "metadata": {
  "colab": {
   "provenance": []
  },
  "kernelspec": {
   "display_name": "Python 3 (ipykernel)",
   "language": "python",
   "name": "python3"
  },
  "language_info": {
   "codemirror_mode": {
    "name": "ipython",
    "version": 3
   },
   "file_extension": ".py",
   "mimetype": "text/x-python",
   "name": "python",
   "nbconvert_exporter": "python",
   "pygments_lexer": "ipython3",
   "version": "3.7.6"
  }
 },
 "nbformat": 4,
 "nbformat_minor": 1
}
