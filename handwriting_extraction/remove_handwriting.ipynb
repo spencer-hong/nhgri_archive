{
 "cells": [
  {
   "cell_type": "code",
   "execution_count": null,
   "metadata": {},
   "outputs": [],
   "source": [
    "import sys\n",
    "sys.path.append(\"src/\")\n",
    "\n",
    "import redactor as Redactor\n",
    "import cv2\n",
    "from tqdm import tqdm\n",
    "\n",
    "from pathlib import Path\n",
    "import pandas as pd\n",
    "\n",
    "import traceback"
   ]
  },
  {
   "cell_type": "code",
   "execution_count": null,
   "metadata": {},
   "outputs": [],
   "source": [
    "image_paths = pd.read_parquet(\"../code_final/text_extraction/all_pdfs_to_be_redacted.parquet\")[['image_local_path', 'nodeID']]"
   ]
  },
  {
   "cell_type": "code",
   "execution_count": null,
   "metadata": {},
   "outputs": [],
   "source": [
    "\n",
    "model_path = '../handwriting_manuscript/checkpoint/pre_trained_model.pb'\n",
    "\n",
    "# image_paths = [\n",
    "#     # insert image paths here\n",
    "# ]\n",
    "\n",
    "\n",
    "redactor = Redactor.redactor(model_path)\n",
    "\n",
    "for i, row in tqdm(image_paths.iterrows(), total = image_paths.shape[0]):\n",
    "    try:\n",
    "        nodeID = row['nodeID']\n",
    "        if not Path(\"../code_final/text_extraction/redacted_images/\" + nodeID + \".png\").exists():\n",
    "            results = redactor.mask_handwriting(row['image_local_path'])\n",
    "    #         for result in results:\n",
    "    #             cv2.imwrite(f'../code_final/text_extraction/redacted_images/{nodeID}_{result}.png', results[result])\n",
    "            result = results['CLEANED_TO']\n",
    "            cv2.imwrite(f'../code_final/text_extraction/redacted_images/{nodeID}.png', result)\n",
    "    except:\n",
    "        print(traceback.format_exc())\n",
    "redactor.sess.close()"
   ]
  },
  {
   "cell_type": "code",
   "execution_count": null,
   "metadata": {},
   "outputs": [],
   "source": []
  }
 ],
 "metadata": {
  "kernelspec": {
   "display_name": "Python 3",
   "language": "python",
   "name": "python3"
  },
  "language_info": {
   "codemirror_mode": {
    "name": "ipython",
    "version": 3
   },
   "file_extension": ".py",
   "mimetype": "text/x-python",
   "name": "python",
   "nbconvert_exporter": "python",
   "pygments_lexer": "ipython3",
   "version": "3.7.6"
  }
 },
 "nbformat": 4,
 "nbformat_minor": 4
}
